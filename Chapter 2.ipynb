{
 "cells": [
  {
   "cell_type": "markdown",
   "id": "7583e1f2",
   "metadata": {},
   "source": [
    "##  2.1. ECOS API 이용"
   ]
  },
  {
   "cell_type": "markdown",
   "id": "279b5705",
   "metadata": {},
   "source": [
    "한국은행은 국내외 경제 전반에 관한 심도깊은 조사분석을 수행하며 관련된 각종 통계를 작성 및 발표하고 있습니다. 통계는 한국은행 경제통계시스템(ECOS)을 통해 접근이 가능한데요. 이번 장에서는 ECOS의 오픈 API 기능을 활용해 대용량의 각종 통계들을 Python을 이용하여 불러오는 방법을 알아봅니다."
   ]
  },
  {
   "cell_type": "markdown",
   "id": "65db5ad7",
   "metadata": {},
   "source": [
    "API는 Application Programming Interface의 줄임말로, 어플리케이션의 기능 수행에 필요한 규칙(함수)을 정의한 것을 의미합니다. 예를 들어 음성인식 텔레비전의 전원을 끄고 싶을 때 \"전원 꺼주세요\"라고 말하면 되는데, 이는 제조사가 '전원을 꺼달라는 사용자의 말을 인식하면 티비의 전원을 끈다'라는 규칙을 미리 만들어두었기 때문입니다. 제조사가 이러한 규칙을 미리 만들어두었듯 API는 어플리케이션 개발자가 사용자 편의 등을 위해 만들어놓은 함수입니다."
   ]
  },
  {
   "cell_type": "markdown",
   "id": "fce24af6",
   "metadata": {},
   "source": [
    "자, 우선 한국은행 ECOS에 접속해봅시다. https://ecos.bok.or.kr 을 검색해 이동해주세요."
   ]
  },
  {
   "cell_type": "markdown",
   "id": "0c91715d",
   "metadata": {},
   "source": [
    "[ECOS 사진 필]"
   ]
  },
  {
   "cell_type": "markdown",
   "id": "1b2615e3",
   "metadata": {},
   "source": [
    "회원가입을 진행하신 후 상단 메뉴바 우측에 위치한 MyPage를 클릭하시면, 발급받으신 인증키를 확인하실 수 있습니다. 잘 작동하는지 간단히 테스트를 해볼까요? 아래의 예제에서 api_key 변수의 값을 본인의 인증키로 바꾸어주세요. B9G993TGPZ8EMO1DY4L5를 인증키로 바꾸어주시면 됩니다."
   ]
  },
  {
   "cell_type": "code",
   "execution_count": 94,
   "id": "e80d2801",
   "metadata": {},
   "outputs": [
    {
     "data": {
      "text/plain": [
       "{'StatisticSearch': {'list_total_count': 2,\n",
       "  'row': [{'STAT_CODE': '200Y001',\n",
       "    'STAT_NAME': '2.1.1.1. 주요지표(연간지표)',\n",
       "    'ITEM_CODE1': '1010101',\n",
       "    'ITEM_NAME1': '국내총생산(명목, 달러표시)',\n",
       "    'ITEM_CODE2': None,\n",
       "    'ITEM_NAME2': None,\n",
       "    'ITEM_CODE3': None,\n",
       "    'ITEM_NAME3': None,\n",
       "    'ITEM_CODE4': None,\n",
       "    'ITEM_NAME4': None,\n",
       "    'UNIT_NAME': '억달러 ',\n",
       "    'TIME': '2021',\n",
       "    'DATA_VALUE': '18102.3'},\n",
       "   {'STAT_CODE': '200Y001',\n",
       "    'STAT_NAME': '2.1.1.1. 주요지표(연간지표)',\n",
       "    'ITEM_CODE1': '1010101',\n",
       "    'ITEM_NAME1': '국내총생산(명목, 달러표시)',\n",
       "    'ITEM_CODE2': None,\n",
       "    'ITEM_NAME2': None,\n",
       "    'ITEM_CODE3': None,\n",
       "    'ITEM_NAME3': None,\n",
       "    'ITEM_CODE4': None,\n",
       "    'ITEM_NAME4': None,\n",
       "    'UNIT_NAME': '억달러 ',\n",
       "    'TIME': '2022',\n",
       "    'DATA_VALUE': '16643.3'}]}}"
      ]
     },
     "execution_count": 94,
     "metadata": {},
     "output_type": "execute_result"
    }
   ],
   "source": [
    "api_key = 'B9G993TGPZ8EMO1DY4L5'\n",
    "\n",
    "url = 'http://ecos.bok.or.kr/api/StatisticSearch/{}/json/kr/1/10/200Y001/A/2021/2022/1010101'.format(api_key)\n",
    "import requests\n",
    "requests.get(url).json()"
   ]
  },
  {
   "cell_type": "markdown",
   "id": "d284d955",
   "metadata": {},
   "source": [
    "위와 같은 결과값을 얻으셨다면 여러분은 성공적으로 한국은행으로부터 국내총생산(GDP) 자료를 받아오신 겁니다."
   ]
  },
  {
   "cell_type": "markdown",
   "id": "5442a31e",
   "metadata": {},
   "source": [
    "우리가 어떻게 결과를 가져온 것인지 하나씩 뜯어보죠. 2023년 기준입니다."
   ]
  },
  {
   "cell_type": "markdown",
   "id": "9aeeb3a9",
   "metadata": {},
   "source": [
    "http://ecos.bok.or.kr/api/StatisticSearch/인증키/json/kr/1/10/200Y001/A/2021/2022/1010101"
   ]
  },
  {
   "cell_type": "markdown",
   "id": "a8a05d6c",
   "metadata": {},
   "source": [
    "먼저 1번 부분은 ECOS로부터 api를 이용해 데이터를 가져오겠다는 의미입니다.\n",
    "2번은 앞서 얘기한 인증키가 들어가죠.\n",
    "3번은 데이터를 받아오는 형식입니다. xml과 json 방식이 있습니다. 우리는 json을 선택했습니다.\n",
    "4번은 언어입니다.\n",
    "5번은 받아오는 데이터의 양을 결정하는데, 전체 결과값 중에서 첫번째 결과부터 열번째 결과까지 가져오겠다는 의미입니다.\n",
    "6번은 받아올 통계의 코드를 의미합니다.\n",
    "7번은 통계 시계열의 주기를, 8번은 시계열 범위를 의미합니다.\n",
    "9번은 통계항목 내의 세부 통계 종류를 설정한 것입니다.\n",
    "\n",
    "API 규칙에 관한 보다 자세한 사항은 'ECOS 홈페이지 > 개발 가이드 > 개발 명세서'에서 확인할 수 있습니다.\n",
    "6~9번에 조회하고 싶은 통계에 어떤 정보를 입력해야 하는지는 'ECOS 홈페이지 > 개발 가이드 > 통계코드검색'에서 확인할 수 있습니다."
   ]
  },
  {
   "cell_type": "markdown",
   "id": "7c76209d",
   "metadata": {},
   "source": [
    "## 2.2 Pandas "
   ]
  },
  {
   "cell_type": "markdown",
   "id": "47d9c790",
   "metadata": {},
   "source": [
    "Python이 가장 사랑받는 프로그래밍 언어가 된 이유 중 하나는 분명 pandas라는 패키지 때문입니다. 패키지는 사용자가 코드를 처음부터 작성할 필요가 없도록 자주 사용되는 코드를 미리 작성해 모아놓은 모음입니다. 패키지가 있기에 우리는 라면을 끓이기 위해 밀을 재배하지 않아도 됩니다. 그저 다른 사람이 미리 만들어준 튀긴 면과 라면 스프만 물에 넣고 끓이기만 하면 되죠."
   ]
  },
  {
   "cell_type": "markdown",
   "id": "e4a566df",
   "metadata": {},
   "source": [
    "pandas 패키지는 2008년 웨스 맥키니가 제작을 시작한 것으로 시계열 데이터를 다루는 데 특화되어 있습니다. 본 도서에서는 pandas 패키지에서 필수적인 기능만을 다루지만, pandas에는 다른 여러 화려하고 효과적인 기능이 많습니다. 추가로 학습하고 싶으신 분들께 아래와 같이 학습자료를 추천드립니다.\n",
    "\n",
    "학습자료 추천 : \n",
    "    - 파이썬 라이브러리를 활용한 데이터 분석, 웨스 맥키니 저, 한빛출판사"
   ]
  },
  {
   "cell_type": "code",
   "execution_count": 32,
   "id": "eb3380ff",
   "metadata": {},
   "outputs": [],
   "source": [
    "import pandas # import로 사용하고 싶은 패키지를 불러옵니다"
   ]
  },
  {
   "cell_type": "code",
   "execution_count": 35,
   "id": "2050feaa",
   "metadata": {},
   "outputs": [
    {
     "data": {
      "text/plain": [
       "초코파이    1\n",
       "송편      1\n",
       "dtype: int64"
      ]
     },
     "execution_count": 35,
     "metadata": {},
     "output_type": "execute_result"
    }
   ],
   "source": [
    "pandas.Series([1,1], index=['초코파이', '송편']) # Series는 일차원 데이터를 담는 형식이에요"
   ]
  },
  {
   "cell_type": "code",
   "execution_count": 36,
   "id": "a0602d6e",
   "metadata": {},
   "outputs": [
    {
     "data": {
      "text/html": [
       "<div>\n",
       "<style scoped>\n",
       "    .dataframe tbody tr th:only-of-type {\n",
       "        vertical-align: middle;\n",
       "    }\n",
       "\n",
       "    .dataframe tbody tr th {\n",
       "        vertical-align: top;\n",
       "    }\n",
       "\n",
       "    .dataframe thead th {\n",
       "        text-align: right;\n",
       "    }\n",
       "</style>\n",
       "<table border=\"1\" class=\"dataframe\">\n",
       "  <thead>\n",
       "    <tr style=\"text-align: right;\">\n",
       "      <th></th>\n",
       "      <th>개수</th>\n",
       "      <th>당도</th>\n",
       "    </tr>\n",
       "  </thead>\n",
       "  <tbody>\n",
       "    <tr>\n",
       "      <th>초코파이</th>\n",
       "      <td>1</td>\n",
       "      <td>1</td>\n",
       "    </tr>\n",
       "    <tr>\n",
       "      <th>송편</th>\n",
       "      <td>1</td>\n",
       "      <td>2</td>\n",
       "    </tr>\n",
       "  </tbody>\n",
       "</table>\n",
       "</div>"
      ],
      "text/plain": [
       "      개수  당도\n",
       "초코파이   1   1\n",
       "송편     1   2"
      ]
     },
     "execution_count": 36,
     "metadata": {},
     "output_type": "execute_result"
    }
   ],
   "source": [
    "pandas.DataFrame([[1,1],[1,2]], index=['초코파이', '송편'], columns=['개수','당도']) # DataFrame은 이차원 데이터를 담습니다"
   ]
  },
  {
   "cell_type": "code",
   "execution_count": 51,
   "id": "561f23f4",
   "metadata": {},
   "outputs": [
    {
     "data": {
      "text/plain": [
       "초코파이    1\n",
       "송편      1\n",
       "Name: 개수, dtype: int64"
      ]
     },
     "execution_count": 51,
     "metadata": {},
     "output_type": "execute_result"
    }
   ],
   "source": [
    "import pandas as pd # as라는 기능을 이용하면 패키지에 별명을 붙일 수 있어요\n",
    "df = pd.DataFrame([[1,1],[1,2]], index=['초코파이', '송편'], columns=['개수','당도']) # index와 columns를 통해 각각 행과 열의 이름을 설정합니다\n",
    "df['개수'] # DataFrame은 복수 개 Series의 결합으로 구성되어 있습니다"
   ]
  },
  {
   "cell_type": "markdown",
   "id": "df5401f6",
   "metadata": {},
   "source": [
    "pandas를 이용하면 api로 받아온 데이터를 편리하게 정제할 수 있습니다."
   ]
  },
  {
   "cell_type": "code",
   "execution_count": 110,
   "id": "70875db2",
   "metadata": {},
   "outputs": [
    {
     "data": {
      "text/html": [
       "<div>\n",
       "<style scoped>\n",
       "    .dataframe tbody tr th:only-of-type {\n",
       "        vertical-align: middle;\n",
       "    }\n",
       "\n",
       "    .dataframe tbody tr th {\n",
       "        vertical-align: top;\n",
       "    }\n",
       "\n",
       "    .dataframe thead th {\n",
       "        text-align: right;\n",
       "    }\n",
       "</style>\n",
       "<table border=\"1\" class=\"dataframe\">\n",
       "  <thead>\n",
       "    <tr style=\"text-align: right;\">\n",
       "      <th></th>\n",
       "      <th>STAT_CODE</th>\n",
       "      <th>STAT_NAME</th>\n",
       "      <th>ITEM_CODE1</th>\n",
       "      <th>ITEM_NAME1</th>\n",
       "      <th>ITEM_CODE2</th>\n",
       "      <th>ITEM_NAME2</th>\n",
       "      <th>ITEM_CODE3</th>\n",
       "      <th>ITEM_NAME3</th>\n",
       "      <th>ITEM_CODE4</th>\n",
       "      <th>ITEM_NAME4</th>\n",
       "      <th>UNIT_NAME</th>\n",
       "      <th>TIME</th>\n",
       "      <th>DATA_VALUE</th>\n",
       "    </tr>\n",
       "  </thead>\n",
       "  <tbody>\n",
       "    <tr>\n",
       "      <th>0</th>\n",
       "      <td>200Y001</td>\n",
       "      <td>2.1.1.1. 주요지표(연간지표)</td>\n",
       "      <td>1010101</td>\n",
       "      <td>국내총생산(명목, 달러표시)</td>\n",
       "      <td>None</td>\n",
       "      <td>None</td>\n",
       "      <td>None</td>\n",
       "      <td>None</td>\n",
       "      <td>None</td>\n",
       "      <td>None</td>\n",
       "      <td>억달러</td>\n",
       "      <td>2021</td>\n",
       "      <td>18102.3</td>\n",
       "    </tr>\n",
       "    <tr>\n",
       "      <th>1</th>\n",
       "      <td>200Y001</td>\n",
       "      <td>2.1.1.1. 주요지표(연간지표)</td>\n",
       "      <td>1010101</td>\n",
       "      <td>국내총생산(명목, 달러표시)</td>\n",
       "      <td>None</td>\n",
       "      <td>None</td>\n",
       "      <td>None</td>\n",
       "      <td>None</td>\n",
       "      <td>None</td>\n",
       "      <td>None</td>\n",
       "      <td>억달러</td>\n",
       "      <td>2022</td>\n",
       "      <td>16643.3</td>\n",
       "    </tr>\n",
       "  </tbody>\n",
       "</table>\n",
       "</div>"
      ],
      "text/plain": [
       "  STAT_CODE            STAT_NAME ITEM_CODE1       ITEM_NAME1 ITEM_CODE2  \\\n",
       "0   200Y001  2.1.1.1. 주요지표(연간지표)    1010101  국내총생산(명목, 달러표시)       None   \n",
       "1   200Y001  2.1.1.1. 주요지표(연간지표)    1010101  국내총생산(명목, 달러표시)       None   \n",
       "\n",
       "  ITEM_NAME2 ITEM_CODE3 ITEM_NAME3 ITEM_CODE4 ITEM_NAME4 UNIT_NAME  TIME  \\\n",
       "0       None       None       None       None       None      억달러   2021   \n",
       "1       None       None       None       None       None      억달러   2022   \n",
       "\n",
       "  DATA_VALUE  \n",
       "0    18102.3  \n",
       "1    16643.3  "
      ]
     },
     "execution_count": 110,
     "metadata": {},
     "output_type": "execute_result"
    }
   ],
   "source": [
    "result_json = requests.get(url).json()\n",
    "pd.DataFrame(result_json['StatisticSearch']['row'])"
   ]
  },
  {
   "cell_type": "code",
   "execution_count": 113,
   "id": "989a9bb3",
   "metadata": {},
   "outputs": [
    {
     "data": {
      "text/html": [
       "<div>\n",
       "<style scoped>\n",
       "    .dataframe tbody tr th:only-of-type {\n",
       "        vertical-align: middle;\n",
       "    }\n",
       "\n",
       "    .dataframe tbody tr th {\n",
       "        vertical-align: top;\n",
       "    }\n",
       "\n",
       "    .dataframe thead th {\n",
       "        text-align: right;\n",
       "    }\n",
       "</style>\n",
       "<table border=\"1\" class=\"dataframe\">\n",
       "  <thead>\n",
       "    <tr style=\"text-align: right;\">\n",
       "      <th></th>\n",
       "      <th>STAT_CODE</th>\n",
       "      <th>STAT_NAME</th>\n",
       "      <th>ITEM_CODE1</th>\n",
       "      <th>ITEM_NAME1</th>\n",
       "      <th>ITEM_CODE2</th>\n",
       "      <th>ITEM_NAME2</th>\n",
       "      <th>ITEM_CODE3</th>\n",
       "      <th>ITEM_NAME3</th>\n",
       "      <th>ITEM_CODE4</th>\n",
       "      <th>ITEM_NAME4</th>\n",
       "      <th>UNIT_NAME</th>\n",
       "      <th>DATA_VALUE</th>\n",
       "    </tr>\n",
       "    <tr>\n",
       "      <th>TIME</th>\n",
       "      <th></th>\n",
       "      <th></th>\n",
       "      <th></th>\n",
       "      <th></th>\n",
       "      <th></th>\n",
       "      <th></th>\n",
       "      <th></th>\n",
       "      <th></th>\n",
       "      <th></th>\n",
       "      <th></th>\n",
       "      <th></th>\n",
       "      <th></th>\n",
       "    </tr>\n",
       "  </thead>\n",
       "  <tbody>\n",
       "    <tr>\n",
       "      <th>2021</th>\n",
       "      <td>200Y001</td>\n",
       "      <td>2.1.1.1. 주요지표(연간지표)</td>\n",
       "      <td>1010101</td>\n",
       "      <td>국내총생산(명목, 달러표시)</td>\n",
       "      <td>None</td>\n",
       "      <td>None</td>\n",
       "      <td>None</td>\n",
       "      <td>None</td>\n",
       "      <td>None</td>\n",
       "      <td>None</td>\n",
       "      <td>억달러</td>\n",
       "      <td>18102.3</td>\n",
       "    </tr>\n",
       "    <tr>\n",
       "      <th>2022</th>\n",
       "      <td>200Y001</td>\n",
       "      <td>2.1.1.1. 주요지표(연간지표)</td>\n",
       "      <td>1010101</td>\n",
       "      <td>국내총생산(명목, 달러표시)</td>\n",
       "      <td>None</td>\n",
       "      <td>None</td>\n",
       "      <td>None</td>\n",
       "      <td>None</td>\n",
       "      <td>None</td>\n",
       "      <td>None</td>\n",
       "      <td>억달러</td>\n",
       "      <td>16643.3</td>\n",
       "    </tr>\n",
       "  </tbody>\n",
       "</table>\n",
       "</div>"
      ],
      "text/plain": [
       "     STAT_CODE            STAT_NAME ITEM_CODE1       ITEM_NAME1 ITEM_CODE2  \\\n",
       "TIME                                                                         \n",
       "2021   200Y001  2.1.1.1. 주요지표(연간지표)    1010101  국내총생산(명목, 달러표시)       None   \n",
       "2022   200Y001  2.1.1.1. 주요지표(연간지표)    1010101  국내총생산(명목, 달러표시)       None   \n",
       "\n",
       "     ITEM_NAME2 ITEM_CODE3 ITEM_NAME3 ITEM_CODE4 ITEM_NAME4 UNIT_NAME  \\\n",
       "TIME                                                                    \n",
       "2021       None       None       None       None       None      억달러    \n",
       "2022       None       None       None       None       None      억달러    \n",
       "\n",
       "     DATA_VALUE  \n",
       "TIME             \n",
       "2021    18102.3  \n",
       "2022    16643.3  "
      ]
     },
     "execution_count": 113,
     "metadata": {},
     "output_type": "execute_result"
    }
   ],
   "source": [
    "df = pd.DataFrame(result_json['StatisticSearch']['row'])\n",
    "df.set_index('TIME') #set_index로 DataFrame의 index가 될 column을 선택합니다"
   ]
  },
  {
   "cell_type": "code",
   "execution_count": 116,
   "id": "3adb3844",
   "metadata": {},
   "outputs": [
    {
     "data": {
      "text/html": [
       "<div>\n",
       "<style scoped>\n",
       "    .dataframe tbody tr th:only-of-type {\n",
       "        vertical-align: middle;\n",
       "    }\n",
       "\n",
       "    .dataframe tbody tr th {\n",
       "        vertical-align: top;\n",
       "    }\n",
       "\n",
       "    .dataframe thead th {\n",
       "        text-align: right;\n",
       "    }\n",
       "</style>\n",
       "<table border=\"1\" class=\"dataframe\">\n",
       "  <thead>\n",
       "    <tr style=\"text-align: right;\">\n",
       "      <th></th>\n",
       "      <th>ITEM_CODE1</th>\n",
       "      <th>DATA_VALUE</th>\n",
       "    </tr>\n",
       "    <tr>\n",
       "      <th>TIME</th>\n",
       "      <th></th>\n",
       "      <th></th>\n",
       "    </tr>\n",
       "  </thead>\n",
       "  <tbody>\n",
       "    <tr>\n",
       "      <th>2021</th>\n",
       "      <td>1010101</td>\n",
       "      <td>18102.3</td>\n",
       "    </tr>\n",
       "    <tr>\n",
       "      <th>2022</th>\n",
       "      <td>1010101</td>\n",
       "      <td>16643.3</td>\n",
       "    </tr>\n",
       "  </tbody>\n",
       "</table>\n",
       "</div>"
      ],
      "text/plain": [
       "     ITEM_CODE1 DATA_VALUE\n",
       "TIME                      \n",
       "2021    1010101    18102.3\n",
       "2022    1010101    16643.3"
      ]
     },
     "execution_count": 116,
     "metadata": {},
     "output_type": "execute_result"
    }
   ],
   "source": [
    "df.set_index('TIME')[['ITEM_CODE1','DATA_VALUE']] # 뒷 부분에 대괄호를 붙인 뒤 원하는 column의 이름을 넣으면, 원하는 열만 추려서 조회됩니다"
   ]
  },
  {
   "cell_type": "markdown",
   "id": "0e9ac71f",
   "metadata": {},
   "source": [
    "그래프도 한번 그려보죠."
   ]
  },
  {
   "cell_type": "code",
   "execution_count": 155,
   "id": "210e7274",
   "metadata": {},
   "outputs": [
    {
     "data": {
      "text/plain": [
       "TIME\n",
       "2021    18102.3\n",
       "2022    16643.3\n",
       "Name: DATA_VALUE, dtype: object"
      ]
     },
     "execution_count": 155,
     "metadata": {},
     "output_type": "execute_result"
    }
   ],
   "source": [
    "ser = df.set_index('TIME')['DATA_VALUE']\n",
    "ser"
   ]
  },
  {
   "cell_type": "markdown",
   "id": "21207f8a",
   "metadata": {},
   "source": [
    "그런데, 데이터 유형(dtype)이 object로 되어 있네요. 그래프를 그리기 위해서는 숫자로 변경해주어야 합니다."
   ]
  },
  {
   "cell_type": "code",
   "execution_count": 156,
   "id": "d6e11d04",
   "metadata": {},
   "outputs": [
    {
     "data": {
      "text/plain": [
       "TIME\n",
       "2021    18102.3\n",
       "2022    16643.3\n",
       "Name: DATA_VALUE, dtype: float64"
      ]
     },
     "execution_count": 156,
     "metadata": {},
     "output_type": "execute_result"
    }
   ],
   "source": [
    "pd.to_numeric(ser) # pandas의 to_numeric을 이용하면 숫자로 데이터 타입 변경이 가능합니다"
   ]
  },
  {
   "cell_type": "code",
   "execution_count": 164,
   "id": "9f5443ca",
   "metadata": {},
   "outputs": [
    {
     "data": {
      "text/plain": [
       "<AxesSubplot:title={'center':'한국 GDP'}, xlabel='TIME'>"
      ]
     },
     "execution_count": 164,
     "metadata": {},
     "output_type": "execute_result"
    },
    {
     "data": {
      "image/png": "[encoded data removed]",
      "text/plain": [
       "<Figure size 432x288 with 1 Axes>"
      ]
     },
     "metadata": {
      "needs_background": "light"
     },
     "output_type": "display_data"
    }
   ],
   "source": [
    "pd.to_numeric(ser).plot(kind='bar', title=\"한국 GDP\") # .plot()으로 그래프를 그릴 수 있습니다"
   ]
  },
  {
   "cell_type": "code",
   "execution_count": null,
   "id": "8a3e1d33",
   "metadata": {},
   "outputs": [],
   "source": []
  },
  {
   "cell_type": "code",
   "execution_count": null,
   "id": "4c0864b0",
   "metadata": {},
   "outputs": [],
   "source": []
  },
  {
   "cell_type": "code",
   "execution_count": 57,
   "id": "75421ad3",
   "metadata": {},
   "outputs": [],
   "source": [
    "import matplotlib.pyplot as plt\n",
    "# Window의 한글 폰트 설정\n",
    "plt.rc('font',family='Malgun Gothic')\n",
    "# Mac의 한글 폰트 설정\n",
    "#plt.rc('font',family='AppleGothic')"
   ]
  },
  {
   "cell_type": "code",
   "execution_count": 58,
   "id": "c4550b60",
   "metadata": {},
   "outputs": [
    {
     "data": {
      "text/plain": [
       "<AxesSubplot:>"
      ]
     },
     "execution_count": 58,
     "metadata": {},
     "output_type": "execute_result"
    },
    {
     "data": {
      "image/png": "[encoded data removed]",
      "text/plain": [
       "<Figure size 432x288 with 1 Axes>"
      ]
     },
     "metadata": {
      "needs_background": "light"
     },
     "output_type": "display_data"
    }
   ],
   "source": [
    "df.plot()"
   ]
  },
  {
   "cell_type": "code",
   "execution_count": 50,
   "id": "1c9de708",
   "metadata": {},
   "outputs": [],
   "source": [
    "import matplotlib.pyplot as plt\n",
    "plt.rc('font', family='NanumGothic')\n",
    "matplotlib.rcParams['axes.unicode_minus'] = False\n"
   ]
  },
  {
   "cell_type": "code",
   "execution_count": null,
   "id": "72352ca7",
   "metadata": {},
   "outputs": [],
   "source": [
    "api_key = 'B9G993TGPZ8EMO1DY4L5'\n",
    "\n",
    "url = 'http://ecos.bok.or.kr/api/StatisticSearch/{}/json/kr/1/10/200Y001/A/2021/2022/1010101'.format(api_key)\n",
    "import requests\n",
    "requests.get(url).json()"
   ]
  },
  {
   "cell_type": "code",
   "execution_count": 6,
   "id": "f59f4297",
   "metadata": {},
   "outputs": [],
   "source": [
    "import requests\n",
    "import xml.etree.ElementTree as ET\n",
    "import xml.dom.minidom\n",
    "\n",
    "## 호출하려는 OpenAPI URL를 정의합니다.\n",
    "url = \"http://ecos.bok.or.kr/api/StatisticsITemList/sample/xml/kr/1/1/1010101/\"\n",
    "\n",
    "\n",
    "self.base + 'StatisticSearch/' + self.Key \\\n",
    "              + '/json/kr/1/1/' + self.STAT_CODE + '/' + cycle + '/' \\\n",
    "              + date + '/' + date + '/' + self.ITEM_CODE1"
   ]
  },
  {
   "cell_type": "code",
   "execution_count": null,
   "id": "cb780783",
   "metadata": {},
   "outputs": [],
   "source": [
    "import requests\n",
    "\n",
    "class Ecos:\n",
    "    def __init__(self, Key, STAT_CODE, ITEM_CODE1, count):\n",
    "        # count: StatisticItemList에서 ITEM_CODE1이 STAT_CODE의 몇 번째 항목인지\n",
    "        self.Key = Key\n",
    "        self.STAT_CODE = STAT_CODE\n",
    "        self.ITEM_CODE1 = ITEM_CODE1\n",
    "        self.base = 'http://ecos.bok.or.kr/api/'\n",
    "        self.count = count\n",
    "\n",
    "    def getJSON(self, url):\n",
    "        return requests.get(url).json()\n",
    "\n",
    "    def getDate(self):  # 최근 일자 구하기\n",
    "        url = self.base + 'StatisticItemList/' + self.Key \\\n",
    "              + '/json/kr/' + str(self.count) + '/' + str(self.count) \\\n",
    "              + '/' + self.STAT_CODE\n",
    "        data = self.getJSON(url)\n",
    "        return (data['StatisticItemList']['row'][0]['END_TIME'],\n",
    "                data['StatisticItemList']['row'][0]['CYCLE'])\n",
    "\n",
    "    def getLatest(self):  # 목표인 금리 데이터 구하기\n",
    "        date, cycle = self.getDate()\n",
    "        url = self.base + 'StatisticSearch/' + self.Key \\\n",
    "              + '/json/kr/1/1/' + self.STAT_CODE + '/' + cycle + '/' \\\n",
    "              + date + '/' + date + '/' + self.ITEM_CODE1\n",
    "        data = self.getJSON(url)\n",
    "        returnDict = {\n",
    "            'date': date,\n",
    "            'value': float(data['StatisticSearch']['row'][0]['DATA_VALUE'])\n",
    "        }\n",
    "        return returnDict\n",
    "\n",
    "Key = ''\n",
    "\n",
    "corpBondAAm = Ecos(Key, STAT_CODE='060Y001', ITEM_CODE1='010300000', count=19)\n",
    "print(corpBondAAm.getLatest()) # {'date': '20201211', 'value': 2.215}\n",
    "corpBondBBBm = Ecos(Key, STAT_CODE='060Y001', ITEM_CODE1='010320000', count=20)\n",
    "print(corpBondBBBm.getLatest()) # {'date': '20201211', 'value': 8.626}"
   ]
  },
  {
   "cell_type": "code",
   "execution_count": 8,
   "id": "1255386e",
   "metadata": {},
   "outputs": [
    {
     "ename": "UnicodeDecodeError",
     "evalue": "'cp949' codec can't decode byte 0xed in position 87: illegal multibyte sequence",
     "output_type": "error",
     "traceback": [
      "\u001b[1;31m---------------------------------------------------------------------------\u001b[0m",
      "\u001b[1;31mUnicodeDecodeError\u001b[0m                        Traceback (most recent call last)",
      "Input \u001b[1;32mIn [8]\u001b[0m, in \u001b[0;36m<cell line: 8>\u001b[1;34m()\u001b[0m\n\u001b[0;32m      6\u001b[0m     t\u001b[38;5;241m.\u001b[39mwrite(xml\u001b[38;5;241m.\u001b[39mtext)\n\u001b[0;32m      8\u001b[0m \u001b[38;5;28;01mwith\u001b[39;00m \u001b[38;5;28mopen\u001b[39m(\u001b[38;5;124m\"\u001b[39m\u001b[38;5;124masdf.txt\u001b[39m\u001b[38;5;124m\"\u001b[39m) \u001b[38;5;28;01mas\u001b[39;00m fp:\n\u001b[1;32m----> 9\u001b[0m     soup \u001b[38;5;241m=\u001b[39m \u001b[43mBeautifulSoup\u001b[49m\u001b[43m(\u001b[49m\u001b[43mfp\u001b[49m\u001b[43m,\u001b[49m\u001b[43m \u001b[49m\u001b[38;5;124;43m'\u001b[39;49m\u001b[38;5;124;43mhtml.parser\u001b[39;49m\u001b[38;5;124;43m'\u001b[39;49m\u001b[43m)\u001b[49m\n\u001b[0;32m     11\u001b[0m \u001b[38;5;28;01mfor\u001b[39;00m row \u001b[38;5;129;01min\u001b[39;00m soup\u001b[38;5;241m.\u001b[39mfindAll(\u001b[38;5;124m'\u001b[39m\u001b[38;5;124mrow\u001b[39m\u001b[38;5;124m'\u001b[39m):\n\u001b[0;32m     12\u001b[0m     \u001b[38;5;28mprint\u001b[39m(row\u001b[38;5;241m.\u001b[39mtime\u001b[38;5;241m.\u001b[39mtext, row\u001b[38;5;241m.\u001b[39mdata_value\u001b[38;5;241m.\u001b[39mtext)\n",
      "File \u001b[1;32m~\\Anaconda3\\lib\\site-packages\\bs4\\__init__.py:312\u001b[0m, in \u001b[0;36mBeautifulSoup.__init__\u001b[1;34m(self, markup, features, builder, parse_only, from_encoding, exclude_encodings, element_classes, **kwargs)\u001b[0m\n\u001b[0;32m    309\u001b[0m \u001b[38;5;28mself\u001b[39m\u001b[38;5;241m.\u001b[39mparse_only \u001b[38;5;241m=\u001b[39m parse_only\n\u001b[0;32m    311\u001b[0m \u001b[38;5;28;01mif\u001b[39;00m \u001b[38;5;28mhasattr\u001b[39m(markup, \u001b[38;5;124m'\u001b[39m\u001b[38;5;124mread\u001b[39m\u001b[38;5;124m'\u001b[39m):        \u001b[38;5;66;03m# It's a file-type object.\u001b[39;00m\n\u001b[1;32m--> 312\u001b[0m     markup \u001b[38;5;241m=\u001b[39m \u001b[43mmarkup\u001b[49m\u001b[38;5;241;43m.\u001b[39;49m\u001b[43mread\u001b[49m\u001b[43m(\u001b[49m\u001b[43m)\u001b[49m\n\u001b[0;32m    313\u001b[0m \u001b[38;5;28;01melif\u001b[39;00m \u001b[38;5;28mlen\u001b[39m(markup) \u001b[38;5;241m<\u001b[39m\u001b[38;5;241m=\u001b[39m \u001b[38;5;241m256\u001b[39m \u001b[38;5;129;01mand\u001b[39;00m (\n\u001b[0;32m    314\u001b[0m         (\u001b[38;5;28misinstance\u001b[39m(markup, \u001b[38;5;28mbytes\u001b[39m) \u001b[38;5;129;01mand\u001b[39;00m \u001b[38;5;129;01mnot\u001b[39;00m \u001b[38;5;124mb\u001b[39m\u001b[38;5;124m'\u001b[39m\u001b[38;5;124m<\u001b[39m\u001b[38;5;124m'\u001b[39m \u001b[38;5;129;01min\u001b[39;00m markup)\n\u001b[0;32m    315\u001b[0m         \u001b[38;5;129;01mor\u001b[39;00m (\u001b[38;5;28misinstance\u001b[39m(markup, \u001b[38;5;28mstr\u001b[39m) \u001b[38;5;129;01mand\u001b[39;00m \u001b[38;5;129;01mnot\u001b[39;00m \u001b[38;5;124m'\u001b[39m\u001b[38;5;124m<\u001b[39m\u001b[38;5;124m'\u001b[39m \u001b[38;5;129;01min\u001b[39;00m markup)\n\u001b[1;32m   (...)\u001b[0m\n\u001b[0;32m    319\u001b[0m     \u001b[38;5;66;03m# Beautiful Soup will still parse the input as markup,\u001b[39;00m\n\u001b[0;32m    320\u001b[0m     \u001b[38;5;66;03m# since that is sometimes the intended behavior.\u001b[39;00m\n\u001b[0;32m    321\u001b[0m     \u001b[38;5;28;01mif\u001b[39;00m \u001b[38;5;129;01mnot\u001b[39;00m \u001b[38;5;28mself\u001b[39m\u001b[38;5;241m.\u001b[39m_markup_is_url(markup):\n",
      "\u001b[1;31mUnicodeDecodeError\u001b[0m: 'cp949' codec can't decode byte 0xed in position 87: illegal multibyte sequence"
     ]
    }
   ],
   "source": [
    "import requests\n",
    "from bs4 import BeautifulSoup\n",
    "\n",
    "xml = requests.get('http://ecos.bok.or.kr/api/StatisticSearch/sample/xml/kr/1/2/060Y001/DD/20201208/20201209/010300000/')\n",
    "with open('asdf.txt', 'a+', encoding=\"UTF-8\") as t:\n",
    "    t.write(xml.text)\n",
    "\n",
    "with open(\"asdf.txt\") as fp:\n",
    "    soup = BeautifulSoup(fp, 'html.parser')\n",
    "\n",
    "for row in soup.findAll('row'):\n",
    "    print(row.time.text, row.data_value.text)\n"
   ]
  }
 ],
 "metadata": {
  "kernelspec": {
   "display_name": "Python 3 (ipykernel)",
   "language": "python",
   "name": "python3"
  },
  "language_info": {
   "codemirror_mode": {
    "name": "ipython",
    "version": 3
   },
   "file_extension": ".py",
   "mimetype": "text/x-python",
   "name": "python",
   "nbconvert_exporter": "python",
   "pygments_lexer": "ipython3",
   "version": "3.9.12"
  }
 },
 "nbformat": 4,
 "nbformat_minor": 5
}
